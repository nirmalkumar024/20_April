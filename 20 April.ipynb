{
 "cells": [
  {
   "cell_type": "markdown",
   "id": "eaa6ff8b-388c-4cbc-a7f9-479de7bdd216",
   "metadata": {},
   "source": [
    "Q1. What is the KNN algorithm?"
   ]
  },
  {
   "cell_type": "markdown",
   "id": "ffc9d4e9-f22a-44d2-8d65-539e63412226",
   "metadata": {},
   "source": [
    "The k-nearest neighbors (KNN) algorithm is a non-parametric, supervised learning classifier, which uses proximity to make classifications or predictions about the grouping of an individual data point."
   ]
  },
  {
   "cell_type": "markdown",
   "id": "cdc6fe2b-5acb-4a57-8f82-508c3a8cd38e",
   "metadata": {},
   "source": [
    "Q2. How do you choose the value of K in KNN?"
   ]
  },
  {
   "cell_type": "markdown",
   "id": "f3014ee3-1d14-4c27-8eeb-1cc056da8552",
   "metadata": {},
   "source": [
    "The optimal K value usually found is the square root of N, where N is the total number of samples. Use an error plot or accuracy plot to find the most favorable K value. KNN performs well with multi-label classes, but you must be aware of the outliers."
   ]
  },
  {
   "cell_type": "markdown",
   "id": "74eac811-0765-4c85-94c2-526380564cdd",
   "metadata": {},
   "source": [
    "Q3. What is the difference between KNN classifier and KNN regressor?"
   ]
  },
  {
   "cell_type": "markdown",
   "id": "747727b7-63e2-4335-869a-a73789034578",
   "metadata": {},
   "source": [
    "The difference between the KNN classifier and KNN regression methods is that the classifier is used in situations where the response variable is categorical (qualitative), while the regressor is used in numerical situations (quantitative)"
   ]
  },
  {
   "cell_type": "markdown",
   "id": "bfcfd4d9-72d7-4423-a306-8da4ea8260ca",
   "metadata": {},
   "source": [
    "Q4. How do you measure the performance of KNN?"
   ]
  },
  {
   "cell_type": "markdown",
   "id": "a213c08f-4a57-433e-8f20-764c9bc0544b",
   "metadata": {},
   "source": [
    "The test data is used to evaluate the performance of the model. The model is tested on the test data by using it to make predictions and comparing these predictions to the actual target values. When training a kNN classifier, it's essential to normalize the features."
   ]
  },
  {
   "cell_type": "markdown",
   "id": "0c6e73b2-2172-47d3-937a-20346478ab3f",
   "metadata": {},
   "source": [
    "Q5. What is the curse of dimensionality in KNN?"
   ]
  },
  {
   "cell_type": "markdown",
   "id": "b8f309e5-1c4e-4a16-8442-9631b961bdbe",
   "metadata": {},
   "source": [
    "The curse of dimensionality is about the idea that the median distance from the origin approaches the boundary of the space as the number of dimensions increases. This effects kNN because said algorithm is based on Euclidean distance."
   ]
  },
  {
   "cell_type": "markdown",
   "id": "e26a6437-6892-4912-b97e-6b37db1a7952",
   "metadata": {},
   "source": [
    "Q6. How do you handle missing values in KNN?"
   ]
  },
  {
   "cell_type": "markdown",
   "id": "35265033-0a99-458e-b606-a49d0ffedb22",
   "metadata": {},
   "source": [
    "The idea in kNN methods is to identify 'k' samples in the dataset that are similar or close in the space. Then we use these 'k' samples to estimate the value of the missing data points. Each sample's missing values are imputed using the mean value of the 'k'-neighbors found in the dataset."
   ]
  },
  {
   "cell_type": "markdown",
   "id": "f44bd5ab-c514-487b-ba69-e289dc1893f1",
   "metadata": {},
   "source": [
    "Q7. Compare and contrast the performance of the KNN classifier and regressor. Which one is better for\n",
    "which type of problem?"
   ]
  },
  {
   "cell_type": "markdown",
   "id": "c89d5063-417c-4a88-8d08-c2e3b55c9938",
   "metadata": {},
   "source": [
    " Predicts a class by using the highest majority category among its k nearest neighbors. Knn Regression: Predicts a value by using the mean of the k nearest neighbors. I figured out that the difference is: regression model: codomain of model is a continuous space, e.g. R."
   ]
  },
  {
   "cell_type": "markdown",
   "id": "7a8563df-4ff4-4ac7-aa0c-6064c7a41c5f",
   "metadata": {},
   "source": [
    "8.What are the strengths and weaknesses of the KNN algorithm for classification and regression tasks,\n",
    "and how can these be addressed?"
   ]
  },
  {
   "cell_type": "code",
   "execution_count": null,
   "id": "b56dc0ff-a757-4f70-8a3b-7653fcdfd67f",
   "metadata": {},
   "outputs": [],
   "source": []
  }
 ],
 "metadata": {
  "kernelspec": {
   "display_name": "Python 3 (ipykernel)",
   "language": "python",
   "name": "python3"
  },
  "language_info": {
   "codemirror_mode": {
    "name": "ipython",
    "version": 3
   },
   "file_extension": ".py",
   "mimetype": "text/x-python",
   "name": "python",
   "nbconvert_exporter": "python",
   "pygments_lexer": "ipython3",
   "version": "3.10.8"
  }
 },
 "nbformat": 4,
 "nbformat_minor": 5
}
